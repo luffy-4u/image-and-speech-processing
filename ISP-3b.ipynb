{
 "cells": [
  {
   "cell_type": "code",
   "execution_count": 22,
   "id": "ae033217-eab8-4c7c-994e-4c37b285e523",
   "metadata": {},
   "outputs": [],
   "source": [
    "import cv2\n",
    "import numpy as np\n",
    "img=cv2.imread('vanacum.webp')\n",
    "gray_image=cv2.cvtColor(img,cv2.COLOR_BGR2GRAY)\n",
    "x,y,width,height=100,100,200,200\n",
    "roi=gray_image[y:y+height,x:x+width]\n",
    "equalized_roi=cv2.equalizeHist(roi)\n",
    "gray_image[y:y+height,x:x+width]=equalized_roi\n",
    "cv2.imshow('hist for part',equalized_roi)\n",
    "cv2.waitKey()\n",
    "cv2.destroyAllWindows()"
   ]
  }
 ],
 "metadata": {
  "kernelspec": {
   "display_name": "Python 3 (ipykernel)",
   "language": "python",
   "name": "python3"
  },
  "language_info": {
   "codemirror_mode": {
    "name": "ipython",
    "version": 3
   },
   "file_extension": ".py",
   "mimetype": "text/x-python",
   "name": "python",
   "nbconvert_exporter": "python",
   "pygments_lexer": "ipython3",
   "version": "3.11.7"
  }
 },
 "nbformat": 4,
 "nbformat_minor": 5
}
