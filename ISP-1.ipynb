{
 "cells": [
  {
   "cell_type": "code",
   "execution_count": 1,
   "id": "0632dc3c-581b-4dcb-8850-9ac6d94eb4d2",
   "metadata": {},
   "outputs": [
    {
     "name": "stdout",
     "output_type": "stream",
     "text": [
      "sanji\n"
     ]
    }
   ],
   "source": [
    "print(\"sanji\")"
   ]
  },
  {
   "cell_type": "code",
   "execution_count": 3,
   "id": "e3659a44-e2b4-43ac-9d6a-71af92051d60",
   "metadata": {},
   "outputs": [
    {
     "name": "stdout",
     "output_type": "stream",
     "text": [
      "Defaulting to user installation because normal site-packages is not writeable\n",
      "Requirement already satisfied: opencv-python in c:\\users\\sanji\\appdata\\roaming\\python\\python311\\site-packages (4.10.0.84)\n",
      "Requirement already satisfied: numpy>=1.21.2 in c:\\programdata\\anaconda3\\lib\\site-packages (from opencv-python) (1.26.4)\n"
     ]
    }
   ],
   "source": [
    "!pip install opencv-python\n"
   ]
  },
  {
   "cell_type": "code",
   "execution_count": 1,
   "id": "b00dd442-2ba4-4570-b6b3-5b02e1760abf",
   "metadata": {},
   "outputs": [
    {
     "data": {
      "text/plain": [
       "13"
      ]
     },
     "execution_count": 1,
     "metadata": {},
     "output_type": "execute_result"
    }
   ],
   "source": [
    "import numpy as np\n",
    "import cv2\n",
    "import matplotlib\n",
    "img=cv2.imread('vanacum.webp')\n",
    "blur=cv2.blur(img,(7,7))\n",
    "g_blur=cv2.GaussianBlur(img,(7,7),0)\n",
    "b_filter=cv2.bilateralFilter(img,9,75,75)\n",
    "m_blur=cv2.medianBlur(img,7)\n",
    "kernel=np.array([\n",
    "    [0,-1,0],\n",
    "    [-1,5,-1],\n",
    "    [0,-1,0]\n",
    "])\n",
    "sharp=cv2.filter2D(img,-1,kernel)\n",
    "cv2.imshow('blured image',blur)\n",
    "cv2.waitKey(0)\n",
    "cv2.imshow('guassian blured image',g_blur)\n",
    "cv2.waitKey(0)\n",
    "cv2.imshow('bilateral filtered image',b_filter)\n",
    "cv2.waitKey(0)\n",
    "cv2.imshow('medianblured image',m_blur)\n",
    "cv2.waitKey(0)\n",
    "cv2.imshow('harpened image',sharp)\n",
    "cv2.waitKey(0)\n",
    "cv2.destroyAllWindows()"
   ]
  },
  {
   "cell_type": "code",
   "execution_count": null,
   "id": "9778c3e1-415b-4e89-b2a7-7b4d850fb56f",
   "metadata": {},
   "outputs": [],
   "source": []
  }
 ],
 "metadata": {
  "kernelspec": {
   "display_name": "Python 3 (ipykernel)",
   "language": "python",
   "name": "python3"
  },
  "language_info": {
   "codemirror_mode": {
    "name": "ipython",
    "version": 3
   },
   "file_extension": ".py",
   "mimetype": "text/x-python",
   "name": "python",
   "nbconvert_exporter": "python",
   "pygments_lexer": "ipython3",
   "version": "3.11.7"
  }
 },
 "nbformat": 4,
 "nbformat_minor": 5
}
