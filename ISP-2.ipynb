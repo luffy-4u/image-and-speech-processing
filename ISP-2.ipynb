{
 "cells": [
  {
   "cell_type": "code",
   "execution_count": 3,
   "id": "6c7724e5-f96f-4c8e-8791-50b7235bb7e3",
   "metadata": {},
   "outputs": [],
   "source": [
    "import cv2\n",
    "import numpy as np\n",
    "import matplotlib.pyplot as plt\n",
    "img=cv2.imread('vanacum.webp')\n",
    "img= cv2.cvtColor(img, cv2.COLOR_BGR2GRAY)\n",
    "sobel=cv2.Sobel(img,-1,0,1,1)\n",
    "cv2.imshow('sobel edge',sobel)\n",
    "cv2.waitKey()\n",
    "canny=cv2.Canny(img,70,135)\n",
    "cv2.imshow('canny edge',canny)\n",
    "cv2.waitKey()\n",
    "cv2.destroyAllWindows()"
   ]
  }
 ],
 "metadata": {
  "kernelspec": {
   "display_name": "Python 3 (ipykernel)",
   "language": "python",
   "name": "python3"
  },
  "language_info": {
   "codemirror_mode": {
    "name": "ipython",
    "version": 3
   },
   "file_extension": ".py",
   "mimetype": "text/x-python",
   "name": "python",
   "nbconvert_exporter": "python",
   "pygments_lexer": "ipython3",
   "version": "3.11.7"
  }
 },
 "nbformat": 4,
 "nbformat_minor": 5
}
