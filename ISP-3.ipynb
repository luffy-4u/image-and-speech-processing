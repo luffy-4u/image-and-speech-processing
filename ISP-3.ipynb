{
 "cells": [
  {
   "cell_type": "code",
   "execution_count": 18,
   "id": "54f0056e-7f9a-455c-9ced-cba08220ad5f",
   "metadata": {},
   "outputs": [],
   "source": [
    "import cv2\n",
    "import numpy as np\n",
    "import matplotlib.pyplot as plt\n",
    "img=cv2.imread('vanacum.webp')\n",
    "r,g,b=cv2.split(img)\n",
    "hist_r=cv2.equalizeHist(r)\n",
    "hist_g=cv2.equalizeHist(g)\n",
    "hist_b=cv2.equalizeHist(b)\n",
    "#gray_img=cv2.cvtColor(img,cv2.COLOR_BGR2GRAY)\n",
    "#hist=cv2.equalizeHist(gray_img)\n",
    "hist_equalize=cv2.merge((hist_r,hist_g,hist_b))\n",
    "cv2.imshow('histogram equalization',hist)\n",
    "cv2.waitKey()\n",
    "cv2.destroyAllWindows()"
   ]
  }
 ],
 "metadata": {
  "kernelspec": {
   "display_name": "Python 3 (ipykernel)",
   "language": "python",
   "name": "python3"
  },
  "language_info": {
   "codemirror_mode": {
    "name": "ipython",
    "version": 3
   },
   "file_extension": ".py",
   "mimetype": "text/x-python",
   "name": "python",
   "nbconvert_exporter": "python",
   "pygments_lexer": "ipython3",
   "version": "3.11.7"
  }
 },
 "nbformat": 4,
 "nbformat_minor": 5
}
